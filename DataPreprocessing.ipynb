{
 "cells": [
  {
   "cell_type": "code",
   "execution_count": 1,
   "id": "b73dac4e-48c2-44ff-8b5d-6b53df73652c",
   "metadata": {},
   "outputs": [],
   "source": [
    "import pandas as pd\n",
    "import numpy as np\n",
    "from sklearn.preprocessing import LabelEncoder"
   ]
  },
  {
   "cell_type": "code",
   "execution_count": 2,
   "id": "f148e19f-6caf-40f3-9bb0-4109e0e507f7",
   "metadata": {},
   "outputs": [
    {
     "name": "stderr",
     "output_type": "stream",
     "text": [
      "/tmp/ipykernel_731/3050839208.py:1: DtypeWarning: Columns (9,10,11,12,13,14) have mixed types. Specify dtype option on import or set low_memory=False.\n",
      "  df = pd.read_csv ('Data/trainingDataSet.csv', sep='|')\n"
     ]
    }
   ],
   "source": [
    "df = pd.read_csv ('Data/trainingDataSet.csv', sep='|')\n",
    "df.columns = df.columns.str.strip()\n",
    "df = df.apply(lambda x: x.str.strip() if x.dtype == 'object' else x)\n",
    "\n",
    "df['start-time'] = pd.to_datetime(df['start-time'])\n",
    "df['end-time'] = pd.to_datetime(df['end-time'])\n",
    "\n",
    "condition=((df['sip']== '192.168.3.11') | (df['dip']== '192.168.3.11')) & (df['proto']==17)\n",
    "df['malicious'] = np.where(condition, True, False)\n",
    "\n",
    "df=df.drop(columns=['start-time','end-time', 'sip','dip','dp','iflags','uflags','ruflags','riflags','isn','risn','end-reason'])\n",
    "\n",
    "df.to_csv('PreProcessedDataset.csv', index=False)\n"
   ]
  }
 ],
 "metadata": {
  "kernelspec": {
   "display_name": "Python 3 (ipykernel)",
   "language": "python",
   "name": "python3"
  },
  "language_info": {
   "codemirror_mode": {
    "name": "ipython",
    "version": 3
   },
   "file_extension": ".py",
   "mimetype": "text/x-python",
   "name": "python",
   "nbconvert_exporter": "python",
   "pygments_lexer": "ipython3",
   "version": "3.10.12"
  }
 },
 "nbformat": 4,
 "nbformat_minor": 5
}
