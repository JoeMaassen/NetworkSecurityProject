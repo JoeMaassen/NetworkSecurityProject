{
 "cells": [
  {
   "cell_type": "code",
   "execution_count": 7,
   "id": "b73dac4e-48c2-44ff-8b5d-6b53df73652c",
   "metadata": {},
   "outputs": [],
   "source": [
    "import pandas as pd\n",
    "import numpy as np\n",
    "from sklearn.preprocessing import LabelEncoder"
   ]
  },
  {
   "cell_type": "code",
   "execution_count": 14,
   "id": "f148e19f-6caf-40f3-9bb0-4109e0e507f7",
   "metadata": {},
   "outputs": [
    {
     "name": "stderr",
     "output_type": "stream",
     "text": [
      "/tmp/ipykernel_844/2310100239.py:1: DtypeWarning: Columns (9,10,11,12,13,14) have mixed types. Specify dtype option on import or set low_memory=False.\n",
      "  df = pd.read_csv ('Data/KitsuneSSDPFlow.csv', sep='|')\n"
     ]
    },
    {
     "name": "stdout",
     "output_type": "stream",
     "text": [
      "272\n",
      "65541\n",
      "0.0041329220670688165\n",
      "272\n",
      "6554\n",
      "0.039847641371227656\n",
      "['start-time', 'end-time', 'duration', 'rtt', 'proto', 'sip', 'sp', 'dip', 'dp', 'iflags', 'uflags', 'riflags', 'ruflags', 'isn', 'risn', 'tag', 'rtag', 'pkt', 'oct', 'rpkt', 'roct', 'end-reason', 'malicious']\n"
     ]
    }
   ],
   "source": [
    "df = pd.read_csv ('Data/KitsuneSSDPFlow.csv', sep='|')\n",
    "df.columns = df.columns.str.strip()\n",
    "df = df.apply(lambda x: x.str.strip() if x.dtype == 'object' else x)\n",
    "\n",
    "df['start-time'] = pd.to_datetime(df['start-time'])\n",
    "df['end-time'] = pd.to_datetime(df['end-time'])\n",
    "\n",
    "\n",
    "condition=((df['sip']== '192.168.3.11') | (df['dip']== '192.168.3.11')) & (df['proto']==17)\n",
    "df['malicious'] = np.where(condition, True, False)\n",
    "\n",
    "malicious_count = df['malicious'].value_counts()[True]\n",
    "non_malicious_count = df['malicious'].value_counts()[False]\n",
    "\n",
    "df = df.drop(df[df['malicious'] == True].sample(frac=0.9).index)\n",
    "malicious_count = df['malicious'].value_counts()[True]\n",
    "non_malicious_count = df['malicious'].value_counts()[False]\n",
    "\n",
    "\n",
    "df=df.drop(columns=['malicious', 'start-time','end-time', 'sip','dip','dp','iflags','uflags','ruflags','riflags','isn','risn','end-reason'])\n",
    "\n",
    "df.to_csv('ProcessedDataset.csv', index=False)\n"
   ]
  }
 ],
 "metadata": {
  "kernelspec": {
   "display_name": "Python 3 (ipykernel)",
   "language": "python",
   "name": "python3"
  },
  "language_info": {
   "codemirror_mode": {
    "name": "ipython",
    "version": 3
   },
   "file_extension": ".py",
   "mimetype": "text/x-python",
   "name": "python",
   "nbconvert_exporter": "python",
   "pygments_lexer": "ipython3",
   "version": "3.10.12"
  }
 },
 "nbformat": 4,
 "nbformat_minor": 5
}
